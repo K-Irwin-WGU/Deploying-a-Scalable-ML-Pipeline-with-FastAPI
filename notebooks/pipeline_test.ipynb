{
 "cells": [
  {
   "cell_type": "markdown",
   "id": "d2265bb9-857a-4e05-9a7f-0c04acd3fbdf",
   "metadata": {},
   "source": [
    "<H1>Deploying a Machine Learning Model Pipeline Test</H1>"
   ]
  },
  {
   "cell_type": "markdown",
   "id": "9b74e166-c01c-4abd-9848-b3c0684b04a4",
   "metadata": {},
   "source": [
    "<H3>1. Install Packages</H3>"
   ]
  },
  {
   "cell_type": "code",
   "execution_count": 1,
   "id": "0ca7b5e7-1a5e-4752-aed6-7f0bebbdb55d",
   "metadata": {},
   "outputs": [],
   "source": [
    "# Import Packages\n",
    "\n",
    "import os\n",
    "import pickle\n",
    "\n",
    "import pandas as pd\n",
    "import numpy as np\n",
    "\n",
    "from sklearn.preprocessing import LabelBinarizer, OneHotEncoder\n",
    "from sklearn.model_selection import train_test_split\n",
    "from sklearn.metrics import fbeta_score, precision_score, recall_score\n",
    "from sklearn.ensemble import RandomForestClassifier\n"
   ]
  },
  {
   "cell_type": "markdown",
   "id": "f67555a1-faba-46da-a1de-085ba16b1639",
   "metadata": {},
   "source": [
    "<<H3>2. Get Census Data and Read it with Pandas</H3>"
   ]
  },
  {
   "cell_type": "code",
   "execution_count": 2,
   "id": "4bf97eee-ca10-4c9c-98ba-19cfe6e566a6",
   "metadata": {},
   "outputs": [
    {
     "name": "stdout",
     "output_type": "stream",
     "text": [
      "/home/k-irw/Udacity/DevOps/Project_2/Deploying-a-Scalable-ML-Pipeline-with-FastAPI/data/census.csv\n"
     ]
    }
   ],
   "source": [
    "# Get Path Census Data\n",
    "\n",
    "project_path = os.getcwd()[:-9]\n",
    "data_path = os.path.join(project_path, \"data\", \"census.csv\")\n",
    "\n",
    "print(data_path)\n"
   ]
  },
  {
   "cell_type": "code",
   "execution_count": 3,
   "id": "75b27c04-8c7e-433f-9fd2-5b2fe0462b11",
   "metadata": {},
   "outputs": [
    {
     "data": {
      "text/plain": [
       "(32561, 15)"
      ]
     },
     "execution_count": 3,
     "metadata": {},
     "output_type": "execute_result"
    }
   ],
   "source": [
    "# Laod Census Data\n",
    "\n",
    "data = pd.read_csv(data_path)\n",
    "data.shape"
   ]
  },
  {
   "cell_type": "markdown",
   "id": "9327a77f-d16a-410d-a47c-beb974b5aabf",
   "metadata": {},
   "source": [
    "<<H3>3. Process Data</H3>"
   ]
  },
  {
   "cell_type": "code",
   "execution_count": 4,
   "id": "9806face-63df-42c2-9360-bef571ee007c",
   "metadata": {},
   "outputs": [],
   "source": [
    "\n",
    "def process_data(\n",
    "    X, categorical_features=[], label=None, training=True, encoder=None, lb=None\n",
    "):\n",
    "\n",
    "    if label is not None:\n",
    "        y = X[label]\n",
    "        X = X.drop([label], axis=1)\n",
    "    else:\n",
    "        y = np.array([])\n",
    "\n",
    "    X_categorical = X[categorical_features].values\n",
    "    X_continuous = X.drop(*[categorical_features], axis=1)\n",
    "\n",
    "    if training is True:\n",
    "        encoder = OneHotEncoder(sparse_output=False, handle_unknown=\"ignore\")\n",
    "        lb = LabelBinarizer()\n",
    "        X_categorical = encoder.fit_transform(X_categorical)\n",
    "        y = lb.fit_transform(y.values).ravel()\n",
    "    else:\n",
    "        X_categorical = encoder.transform(X_categorical)\n",
    "        try:\n",
    "            y = lb.transform(y.values).ravel()\n",
    "        # Catch the case where y is None because we're doing inference.\n",
    "        except AttributeError:\n",
    "            pass\n",
    "\n",
    "    X = np.concatenate([X_continuous, X_categorical], axis=1)\n",
    "    return X, y, encoder, lb\n",
    "    "
   ]
  },
  {
   "cell_type": "markdown",
   "id": "83b20f12-39ef-4c5a-8628-54b06bf741a7",
   "metadata": {},
   "source": [
    "<<H3>4. Build and Train ML Model</H3>"
   ]
  },
  {
   "cell_type": "code",
   "execution_count": 5,
   "id": "452e9bd8-c0dd-4a42-b52b-18db83d15e0b",
   "metadata": {},
   "outputs": [],
   "source": [
    "#  Train Machine learning Model\n",
    "\n",
    "def train_model(X_train, y_train):\n",
    "    model = RandomForestClassifier()\n",
    "    model.fit(X_train, y_train)\n",
    "    return model\n"
   ]
  },
  {
   "cell_type": "code",
   "execution_count": 6,
   "id": "2ad15a75-8e7d-4550-bf4f-c99654b31dca",
   "metadata": {},
   "outputs": [],
   "source": [
    "\n",
    "# Split Data\n",
    "train, test = train_test_split(data, test_size=0.20)\n",
    "\n",
    "cat_features = [\n",
    "    \"workclass\",\n",
    "    \"education\",\n",
    "    \"marital-status\",\n",
    "    \"occupation\",\n",
    "    \"relationship\",\n",
    "    \"race\",\n",
    "    \"sex\",\n",
    "    \"native-country\",\n",
    "]\n",
    "\n",
    "# Use the process_data function provided to process the data.\n",
    "X_train, y_train, encoder, lb = process_data(\n",
    "    train, categorical_features=cat_features, label=\"salary\", training=True\n",
    "    )\n",
    "\n",
    "X_test, y_test, _, _ = process_data(\n",
    "    test,\n",
    "    categorical_features=cat_features,\n",
    "    label=\"salary\",\n",
    "    training=False,\n",
    "    encoder=encoder,\n",
    "    lb=lb,\n",
    ")\n",
    "\n",
    "# Use the train_model function to train the model on the training dataset\n",
    "model = train_model(X_train, y_train)\n"
   ]
  },
  {
   "cell_type": "markdown",
   "id": "7b2ca430-760b-4ff0-b028-0afdda5722f1",
   "metadata": {},
   "source": [
    "<<H3>5. Calculate ML Model Metrics</H3>"
   ]
  },
  {
   "cell_type": "code",
   "execution_count": 7,
   "id": "3c1d1b53-c880-42ca-9fe8-b1244ea85357",
   "metadata": {},
   "outputs": [],
   "source": [
    "# Run model inferences and return the predictions\n",
    "\n",
    "def inference(model, X):\n",
    "    preds = model.predict(X)\n",
    "    return preds\n"
   ]
  },
  {
   "cell_type": "code",
   "execution_count": 8,
   "id": "86f739cd-1482-4a31-9248-d104a4e37adf",
   "metadata": {},
   "outputs": [],
   "source": [
    "# Use the inference function to run the model inferences on the test dataset.\n",
    "\n",
    "preds = inference(model, X_test)\n"
   ]
  },
  {
   "cell_type": "code",
   "execution_count": 9,
   "id": "4c700316-2858-4440-9002-6147c9da67a2",
   "metadata": {},
   "outputs": [],
   "source": [
    "# Validates the trained machine learning model using precision, recall, and F1.\n",
    "\n",
    "def compute_model_metrics(y, preds):\n",
    "    fbeta = fbeta_score(y, preds, beta=1, zero_division=1)\n",
    "    precision = precision_score(y, preds, zero_division=1)\n",
    "    recall = recall_score(y, preds, zero_division=1)\n",
    "    return precision, recall, fbeta\n",
    "    "
   ]
  },
  {
   "cell_type": "code",
   "execution_count": 10,
   "id": "a6ab7f9e-66ae-4f09-b333-530226f373b8",
   "metadata": {},
   "outputs": [
    {
     "name": "stdout",
     "output_type": "stream",
     "text": [
      "Precision: 0.7322 | Recall: 0.6008 | F1: 0.6600\n"
     ]
    }
   ],
   "source": [
    "# Calculate and print the metrics\n",
    "\n",
    "p, r, fb = compute_model_metrics(y_test, preds)\n",
    "print(f\"Precision: {p:.4f} | Recall: {r:.4f} | F1: {fb:.4f}\")\n"
   ]
  },
  {
   "cell_type": "markdown",
   "id": "f8edfbfc-9f29-4c94-9065-7d1e687da44d",
   "metadata": {},
   "source": [
    "<<H3>6. Compute Performance on Model Slices</H3>"
   ]
  },
  {
   "cell_type": "code",
   "execution_count": 11,
   "id": "864dcba2-a1a5-4f0d-b2d7-e17199a681ff",
   "metadata": {},
   "outputs": [],
   "source": [
    "# Compute Model Metrics on Data Slice\n",
    "\n",
    "def performance_on_categorical_slice(\n",
    "    data, column_name, slice_value, categorical_features, label, encoder, lb, model\n",
    "):\n",
    "    data_slice = data[data[column_name] == slice_value]\n",
    "\n",
    "    X_slice, y_slice, _, _ = process_data(\n",
    "        X = data_slice,\n",
    "        categorical_features = categorical_features, \n",
    "        label = label, \n",
    "        training = False, \n",
    "        encoder = encoder, \n",
    "        lb = lb\n",
    "    )\n",
    "    \n",
    "    preds = inference(model, X_slice)\n",
    "    precision, recall, fbeta = compute_model_metrics(y_slice, preds)\n",
    "    return precision, recall, fbeta\n",
    "    "
   ]
  },
  {
   "cell_type": "code",
   "execution_count": 12,
   "id": "2a908986-c779-45b9-b097-2e1126417b2b",
   "metadata": {},
   "outputs": [
    {
     "name": "stdout",
     "output_type": "stream",
     "text": [
      "workclass: ?, Count: 360\n",
      "Precision: 0.7727 | Recall: 0.3696 | F1: 0.5000\n",
      "workclass: Federal-gov, Count: 198\n",
      "Precision: 0.7568 | Recall: 0.6588 | F1: 0.7044\n",
      "workclass: Local-gov, Count: 418\n",
      "Precision: 0.7732 | Recall: 0.5906 | F1: 0.6696\n",
      "workclass: Never-worked, Count: 2\n",
      "Precision: 1.0000 | Recall: 1.0000 | F1: 1.0000\n",
      "workclass: Private, Count: 4527\n",
      "Precision: 0.7192 | Recall: 0.6102 | F1: 0.6602\n",
      "workclass: Self-emp-inc, Count: 210\n",
      "Precision: 0.7619 | Recall: 0.7619 | F1: 0.7619\n",
      "workclass: Self-emp-not-inc, Count: 526\n",
      "Precision: 0.7423 | Recall: 0.4645 | F1: 0.5714\n",
      "workclass: State-gov, Count: 268\n",
      "Precision: 0.7377 | Recall: 0.6250 | F1: 0.6767\n",
      "workclass: Without-pay, Count: 4\n",
      "Precision: 1.0000 | Recall: 1.0000 | F1: 1.0000\n",
      "education: 10th, Count: 176\n",
      "Precision: 0.0000 | Recall: 0.0000 | F1: 0.0000\n",
      "education: 11th, Count: 215\n",
      "Precision: 1.0000 | Recall: 0.1875 | F1: 0.3158\n",
      "education: 12th, Count: 91\n",
      "Precision: 1.0000 | Recall: 0.8000 | F1: 0.8889\n",
      "education: 1st-4th, Count: 35\n",
      "Precision: 1.0000 | Recall: 1.0000 | F1: 1.0000\n",
      "education: 5th-6th, Count: 71\n",
      "Precision: 1.0000 | Recall: 0.0000 | F1: 0.0000\n",
      "education: 7th-8th, Count: 137\n",
      "Precision: 1.0000 | Recall: 0.2727 | F1: 0.4286\n",
      "education: 9th, Count: 99\n",
      "Precision: 1.0000 | Recall: 0.0000 | F1: 0.0000\n",
      "education: Assoc-acdm, Count: 201\n",
      "Precision: 0.7308 | Recall: 0.6667 | F1: 0.6972\n",
      "education: Assoc-voc, Count: 278\n",
      "Precision: 0.6949 | Recall: 0.4824 | F1: 0.5694\n",
      "education: Bachelors, Count: 1122\n",
      "Precision: 0.7521 | Recall: 0.7349 | F1: 0.7434\n",
      "education: Doctorate, Count: 73\n",
      "Precision: 0.7679 | Recall: 0.8600 | F1: 0.8113\n",
      "education: HS-grad, Count: 2160\n",
      "Precision: 0.6256 | Recall: 0.3729 | F1: 0.4673\n",
      "education: Masters, Count: 319\n",
      "Precision: 0.8136 | Recall: 0.8136 | F1: 0.8136\n",
      "education: Preschool, Count: 11\n",
      "Precision: 1.0000 | Recall: 1.0000 | F1: 1.0000\n",
      "education: Prof-school, Count: 92\n",
      "Precision: 0.8493 | Recall: 0.9538 | F1: 0.8986\n",
      "education: Some-college, Count: 1433\n",
      "Precision: 0.6784 | Recall: 0.4874 | F1: 0.5672\n",
      "marital-status: Divorced, Count: 913\n",
      "Precision: 0.6739 | Recall: 0.3263 | F1: 0.4397\n",
      "marital-status: Married-AF-spouse, Count: 8\n",
      "Precision: 1.0000 | Recall: 0.2000 | F1: 0.3333\n",
      "marital-status: Married-civ-spouse, Count: 2995\n",
      "Precision: 0.7296 | Recall: 0.6477 | F1: 0.6862\n",
      "marital-status: Married-spouse-absent, Count: 88\n",
      "Precision: 1.0000 | Recall: 0.2000 | F1: 0.3333\n",
      "marital-status: Never-married, Count: 2092\n",
      "Precision: 0.8200 | Recall: 0.4020 | F1: 0.5395\n",
      "marital-status: Separated, Count: 211\n",
      "Precision: 0.6667 | Recall: 0.1538 | F1: 0.2500\n",
      "marital-status: Widowed, Count: 206\n",
      "Precision: 1.0000 | Recall: 0.2143 | F1: 0.3529\n",
      "occupation: ?, Count: 362\n",
      "Precision: 0.7727 | Recall: 0.3696 | F1: 0.5000\n",
      "occupation: Adm-clerical, Count: 759\n",
      "Precision: 0.6154 | Recall: 0.5045 | F1: 0.5545\n",
      "occupation: Armed-Forces, Count: 3\n",
      "Precision: 1.0000 | Recall: 1.0000 | F1: 1.0000\n",
      "occupation: Craft-repair, Count: 823\n",
      "Precision: 0.6975 | Recall: 0.3773 | F1: 0.4897\n",
      "occupation: Exec-managerial, Count: 836\n",
      "Precision: 0.7941 | Recall: 0.7500 | F1: 0.7714\n",
      "occupation: Farming-fishing, Count: 195\n",
      "Precision: 0.7778 | Recall: 0.3182 | F1: 0.4516\n",
      "occupation: Handlers-cleaners, Count: 260\n",
      "Precision: 0.7143 | Recall: 0.3571 | F1: 0.4762\n",
      "occupation: Machine-op-inspct, Count: 397\n",
      "Precision: 0.6364 | Recall: 0.3182 | F1: 0.4242\n",
      "occupation: Other-service, Count: 653\n",
      "Precision: 0.7500 | Recall: 0.1818 | F1: 0.2927\n",
      "occupation: Priv-house-serv, Count: 35\n",
      "Precision: 1.0000 | Recall: 1.0000 | F1: 1.0000\n",
      "occupation: Prof-specialty, Count: 797\n",
      "Precision: 0.7393 | Recall: 0.7611 | F1: 0.7500\n",
      "occupation: Protective-serv, Count: 141\n",
      "Precision: 0.8065 | Recall: 0.5000 | F1: 0.6173\n",
      "occupation: Sales, Count: 736\n",
      "Precision: 0.6774 | Recall: 0.6528 | F1: 0.6649\n",
      "occupation: Tech-support, Count: 191\n",
      "Precision: 0.7679 | Recall: 0.7167 | F1: 0.7414\n",
      "occupation: Transport-moving, Count: 325\n",
      "Precision: 0.5938 | Recall: 0.2969 | F1: 0.3958\n",
      "relationship: Husband, Count: 2650\n",
      "Precision: 0.7287 | Recall: 0.6495 | F1: 0.6869\n",
      "relationship: Not-in-family, Count: 1652\n",
      "Precision: 0.7586 | Recall: 0.3646 | F1: 0.4925\n",
      "relationship: Other-relative, Count: 191\n",
      "Precision: 1.0000 | Recall: 0.0000 | F1: 0.0000\n",
      "relationship: Own-child, Count: 1011\n",
      "Precision: 1.0000 | Recall: 0.2727 | F1: 0.4286\n",
      "relationship: Unmarried, Count: 696\n",
      "Precision: 0.7333 | Recall: 0.2619 | F1: 0.3860\n",
      "relationship: Wife, Count: 313\n",
      "Precision: 0.7361 | Recall: 0.6424 | F1: 0.6861\n",
      "race: Amer-Indian-Eskimo, Count: 62\n",
      "Precision: 1.0000 | Recall: 0.4000 | F1: 0.5714\n",
      "race: Asian-Pac-Islander, Count: 198\n",
      "Precision: 0.7368 | Recall: 0.6462 | F1: 0.6885\n",
      "race: Black, Count: 634\n",
      "Precision: 0.8033 | Recall: 0.5326 | F1: 0.6405\n",
      "race: Other, Count: 41\n",
      "Precision: 1.0000 | Recall: 1.0000 | F1: 1.0000\n",
      "race: White, Count: 5578\n",
      "Precision: 0.7270 | Recall: 0.6027 | F1: 0.6590\n",
      "sex: Female, Count: 2173\n",
      "Precision: 0.7582 | Recall: 0.5476 | F1: 0.6359\n",
      "sex: Male, Count: 4340\n",
      "Precision: 0.7280 | Recall: 0.6107 | F1: 0.6642\n",
      "native-country: ?, Count: 101\n",
      "Precision: 0.6071 | Recall: 0.6538 | F1: 0.6296\n",
      "native-country: Cambodia, Count: 5\n",
      "Precision: 1.0000 | Recall: 0.5000 | F1: 0.6667\n",
      "native-country: Canada, Count: 17\n",
      "Precision: 0.2500 | Recall: 0.2500 | F1: 0.2500\n",
      "native-country: China, Count: 18\n",
      "Precision: 0.6667 | Recall: 0.8000 | F1: 0.7273\n",
      "native-country: Columbia, Count: 7\n",
      "Precision: 0.0000 | Recall: 1.0000 | F1: 0.0000\n",
      "native-country: Cuba, Count: 18\n",
      "Precision: 0.5000 | Recall: 1.0000 | F1: 0.6667\n",
      "native-country: Dominican-Republic, Count: 18\n",
      "Precision: 1.0000 | Recall: 1.0000 | F1: 1.0000\n",
      "native-country: Ecuador, Count: 8\n",
      "Precision: 1.0000 | Recall: 1.0000 | F1: 1.0000\n",
      "native-country: El-Salvador, Count: 19\n",
      "Precision: 1.0000 | Recall: 1.0000 | F1: 1.0000\n",
      "native-country: England, Count: 17\n",
      "Precision: 0.4000 | Recall: 0.4000 | F1: 0.4000\n",
      "native-country: France, Count: 3\n",
      "Precision: 1.0000 | Recall: 1.0000 | F1: 1.0000\n",
      "native-country: Germany, Count: 27\n",
      "Precision: 1.0000 | Recall: 0.4545 | F1: 0.6250\n",
      "native-country: Greece, Count: 6\n",
      "Precision: 0.5000 | Recall: 0.2500 | F1: 0.3333\n",
      "native-country: Guatemala, Count: 9\n",
      "Precision: 1.0000 | Recall: 0.0000 | F1: 0.0000\n",
      "native-country: Haiti, Count: 13\n",
      "Precision: 1.0000 | Recall: 1.0000 | F1: 1.0000\n",
      "native-country: Honduras, Count: 3\n",
      "Precision: 1.0000 | Recall: 1.0000 | F1: 1.0000\n",
      "native-country: Hong, Count: 2\n",
      "Precision: 1.0000 | Recall: 0.5000 | F1: 0.6667\n",
      "native-country: Hungary, Count: 4\n",
      "Precision: 1.0000 | Recall: 0.5000 | F1: 0.6667\n",
      "native-country: India, Count: 26\n",
      "Precision: 0.6154 | Recall: 0.8889 | F1: 0.7273\n",
      "native-country: Iran, Count: 8\n",
      "Precision: 0.5000 | Recall: 1.0000 | F1: 0.6667\n",
      "native-country: Ireland, Count: 5\n",
      "Precision: 1.0000 | Recall: 0.5000 | F1: 0.6667\n",
      "native-country: Italy, Count: 18\n",
      "Precision: 0.6667 | Recall: 0.3333 | F1: 0.4444\n",
      "native-country: Jamaica, Count: 17\n",
      "Precision: 0.6667 | Recall: 0.5000 | F1: 0.5714\n",
      "native-country: Japan, Count: 12\n",
      "Precision: 1.0000 | Recall: 1.0000 | F1: 1.0000\n",
      "native-country: Laos, Count: 3\n",
      "Precision: 1.0000 | Recall: 1.0000 | F1: 1.0000\n",
      "native-country: Mexico, Count: 136\n",
      "Precision: 1.0000 | Recall: 0.2500 | F1: 0.4000\n",
      "native-country: Nicaragua, Count: 9\n",
      "Precision: 1.0000 | Recall: 0.0000 | F1: 0.0000\n",
      "native-country: Peru, Count: 5\n",
      "Precision: 1.0000 | Recall: 1.0000 | F1: 1.0000\n",
      "native-country: Philippines, Count: 40\n",
      "Precision: 0.9091 | Recall: 0.5882 | F1: 0.7143\n",
      "native-country: Poland, Count: 11\n",
      "Precision: 1.0000 | Recall: 1.0000 | F1: 1.0000\n",
      "native-country: Portugal, Count: 13\n",
      "Precision: 1.0000 | Recall: 0.5000 | F1: 0.6667\n",
      "native-country: Puerto-Rico, Count: 25\n",
      "Precision: 1.0000 | Recall: 0.6000 | F1: 0.7500\n",
      "native-country: Scotland, Count: 3\n",
      "Precision: 1.0000 | Recall: 0.0000 | F1: 0.0000\n",
      "native-country: South, Count: 13\n",
      "Precision: 1.0000 | Recall: 0.5000 | F1: 0.6667\n",
      "native-country: Taiwan, Count: 17\n",
      "Precision: 0.8889 | Recall: 1.0000 | F1: 0.9412\n",
      "native-country: Thailand, Count: 3\n",
      "Precision: 1.0000 | Recall: 1.0000 | F1: 1.0000\n",
      "native-country: Trinadad&Tobago, Count: 3\n",
      "Precision: 1.0000 | Recall: 1.0000 | F1: 1.0000\n",
      "native-country: United-States, Count: 5839\n",
      "Precision: 0.7344 | Recall: 0.5999 | F1: 0.6603\n",
      "native-country: Vietnam, Count: 7\n",
      "Precision: 0.0000 | Recall: 1.0000 | F1: 0.0000\n",
      "native-country: Yugoslavia, Count: 5\n",
      "Precision: 1.0000 | Recall: 0.5000 | F1: 0.6667\n"
     ]
    }
   ],
   "source": [
    "# Iterate Through Categorical Features\n",
    "\n",
    "for col in cat_features:\n",
    "    # iterate through the unique values in one categorical feature\n",
    "    # use test, col and slicevalue as part of the input\n",
    "    for slicevalue in sorted(test[col].unique()):\n",
    "        count = test[test[col] == slicevalue].shape[0]\n",
    "                \n",
    "        p, r, fb = performance_on_categorical_slice(\n",
    "            data = test, \n",
    "            column_name = col, \n",
    "            slice_value = slicevalue,\n",
    "            categorical_features = cat_features, \n",
    "            label = \"salary\",\n",
    "            encoder = encoder, \n",
    "            lb = lb, \n",
    "            model = model\n",
    "        )\n",
    "        \n",
    "        print(f\"{col}: {slicevalue}, Count: {count}\")\n",
    "        print(f\"Precision: {p:.4f} | Recall: {r:.4f} | F1: {fb:.4f}\")\n",
    "        "
   ]
  },
  {
   "cell_type": "code",
   "execution_count": null,
   "id": "d6f123cb-5373-4afe-a15c-d605a2fbade0",
   "metadata": {},
   "outputs": [],
   "source": []
  }
 ],
 "metadata": {
  "kernelspec": {
   "display_name": "Python 3 (ipykernel)",
   "language": "python",
   "name": "python3"
  },
  "language_info": {
   "codemirror_mode": {
    "name": "ipython",
    "version": 3
   },
   "file_extension": ".py",
   "mimetype": "text/x-python",
   "name": "python",
   "nbconvert_exporter": "python",
   "pygments_lexer": "ipython3",
   "version": "3.10.18"
  }
 },
 "nbformat": 4,
 "nbformat_minor": 5
}

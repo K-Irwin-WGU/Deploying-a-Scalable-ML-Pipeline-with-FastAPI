{
 "cells": [
  {
   "cell_type": "markdown",
   "id": "d2265bb9-857a-4e05-9a7f-0c04acd3fbdf",
   "metadata": {},
   "source": [
    "<H1>Deploying a Machine Learning Model Pipeline Test</H1>"
   ]
  },
  {
   "cell_type": "markdown",
   "id": "9b74e166-c01c-4abd-9848-b3c0684b04a4",
   "metadata": {},
   "source": [
    "<H3>1. Install Packages</H3>"
   ]
  },
  {
   "cell_type": "code",
   "execution_count": 1,
   "id": "0ca7b5e7-1a5e-4752-aed6-7f0bebbdb55d",
   "metadata": {},
   "outputs": [],
   "source": [
    "# Import Packages\n",
    "\n",
    "import os\n",
    "import pickle\n",
    "\n",
    "import pandas as pd\n",
    "import numpy as np\n",
    "\n",
    "from sklearn.preprocessing import LabelBinarizer, OneHotEncoder\n",
    "from sklearn.model_selection import train_test_split\n",
    "from sklearn.metrics import fbeta_score, precision_score, recall_score\n",
    "from sklearn.ensemble import RandomForestClassifier\n"
   ]
  },
  {
   "cell_type": "markdown",
   "id": "f67555a1-faba-46da-a1de-085ba16b1639",
   "metadata": {},
   "source": [
    "<<H3>2. Get Census Data and Read it with Pandas</H3>"
   ]
  },
  {
   "cell_type": "code",
   "execution_count": 2,
   "id": "4bf97eee-ca10-4c9c-98ba-19cfe6e566a6",
   "metadata": {},
   "outputs": [
    {
     "name": "stdout",
     "output_type": "stream",
     "text": [
      "/home/k-irw/Udacity/DevOps/Project_2/Deploying-a-Scalable-ML-Pipeline-with-FastAPI/data/census.csv\n"
     ]
    }
   ],
   "source": [
    "# Get Path Cencus Data\n",
    "\n",
    "project_path = os.getcwd()[:-9]\n",
    "data_path = os.path.join(project_path, \"data\", \"census.csv\")\n",
    "\n",
    "print(data_path)\n"
   ]
  },
  {
   "cell_type": "code",
   "execution_count": 3,
   "id": "75b27c04-8c7e-433f-9fd2-5b2fe0462b11",
   "metadata": {},
   "outputs": [
    {
     "data": {
      "text/plain": [
       "(32561, 15)"
      ]
     },
     "execution_count": 3,
     "metadata": {},
     "output_type": "execute_result"
    }
   ],
   "source": [
    "# Laod Cencus Data\n",
    "\n",
    "data = pd.read_csv(data_path)\n",
    "data.shape"
   ]
  },
  {
   "cell_type": "markdown",
   "id": "9327a77f-d16a-410d-a47c-beb974b5aabf",
   "metadata": {},
   "source": [
    "<<H3>3. Process Data</H3>"
   ]
  },
  {
   "cell_type": "code",
   "execution_count": 4,
   "id": "9806face-63df-42c2-9360-bef571ee007c",
   "metadata": {},
   "outputs": [],
   "source": [
    "\n",
    "def process_data(\n",
    "    X, categorical_features=[], label=None, training=True, encoder=None, lb=None\n",
    "):\n",
    "\n",
    "    if label is not None:\n",
    "        y = X[label]\n",
    "        X = X.drop([label], axis=1)\n",
    "    else:\n",
    "        y = np.array([])\n",
    "\n",
    "    X_categorical = X[categorical_features].values\n",
    "    X_continuous = X.drop(*[categorical_features], axis=1)\n",
    "\n",
    "    if training is True:\n",
    "        encoder = OneHotEncoder(sparse_output=False, handle_unknown=\"ignore\")\n",
    "        lb = LabelBinarizer()\n",
    "        X_categorical = encoder.fit_transform(X_categorical)\n",
    "        y = lb.fit_transform(y.values).ravel()\n",
    "    else:\n",
    "        X_categorical = encoder.transform(X_categorical)\n",
    "        try:\n",
    "            y = lb.transform(y.values).ravel()\n",
    "        # Catch the case where y is None because we're doing inference.\n",
    "        except AttributeError:\n",
    "            pass\n",
    "\n",
    "    X = np.concatenate([X_continuous, X_categorical], axis=1)\n",
    "    return X, y, encoder, lb\n",
    "    "
   ]
  },
  {
   "cell_type": "markdown",
   "id": "83b20f12-39ef-4c5a-8628-54b06bf741a7",
   "metadata": {},
   "source": [
    "<<H3>4. Build and Train ML Model</H3>"
   ]
  },
  {
   "cell_type": "code",
   "execution_count": 5,
   "id": "452e9bd8-c0dd-4a42-b52b-18db83d15e0b",
   "metadata": {},
   "outputs": [],
   "source": [
    "#  Train Machine learning Model\n",
    "\n",
    "def train_model(X_train, y_train):\n",
    "    model = RandomForestClassifier()\n",
    "    model.fit(X_train, y_train)\n",
    "    return model\n"
   ]
  },
  {
   "cell_type": "code",
   "execution_count": 6,
   "id": "2ad15a75-8e7d-4550-bf4f-c99654b31dca",
   "metadata": {},
   "outputs": [],
   "source": [
    "\n",
    "# Split Data\n",
    "train, test = train_test_split(data, test_size=0.20)\n",
    "\n",
    "cat_features = [\n",
    "    \"workclass\",\n",
    "    \"education\",\n",
    "    \"marital-status\",\n",
    "    \"occupation\",\n",
    "    \"relationship\",\n",
    "    \"race\",\n",
    "    \"sex\",\n",
    "    \"native-country\",\n",
    "]\n",
    "\n",
    "# Use the process_data function provided to process the data.\n",
    "X_train, y_train, encoder, lb = process_data(\n",
    "    train, categorical_features=cat_features, label=\"salary\", training=True\n",
    "    )\n",
    "\n",
    "X_test, y_test, _, _ = process_data(\n",
    "    test,\n",
    "    categorical_features=cat_features,\n",
    "    label=\"salary\",\n",
    "    training=False,\n",
    "    encoder=encoder,\n",
    "    lb=lb,\n",
    ")\n",
    "\n",
    "# Use the train_model function to train the model on the training dataset\n",
    "model = train_model(X_train, y_train)\n"
   ]
  },
  {
   "cell_type": "markdown",
   "id": "7b2ca430-760b-4ff0-b028-0afdda5722f1",
   "metadata": {},
   "source": [
    "<<H3>5. Calculate ML Model Metrics</H3>"
   ]
  },
  {
   "cell_type": "code",
   "execution_count": 7,
   "id": "3c1d1b53-c880-42ca-9fe8-b1244ea85357",
   "metadata": {},
   "outputs": [],
   "source": [
    "# Run model inferences and return the predictions\n",
    "\n",
    "def inference(model, X):\n",
    "    preds = model.predict(X)\n",
    "    return preds\n"
   ]
  },
  {
   "cell_type": "code",
   "execution_count": 8,
   "id": "86f739cd-1482-4a31-9248-d104a4e37adf",
   "metadata": {},
   "outputs": [],
   "source": [
    "# Use the inference function to run the model inferences on the test dataset.\n",
    "\n",
    "preds = inference(model, X_test)\n"
   ]
  },
  {
   "cell_type": "code",
   "execution_count": 9,
   "id": "4c700316-2858-4440-9002-6147c9da67a2",
   "metadata": {},
   "outputs": [],
   "source": [
    "# Validates the trained machine learning model using precision, recall, and F1.\n",
    "\n",
    "def compute_model_metrics(y, preds):\n",
    "    fbeta = fbeta_score(y, preds, beta=1, zero_division=1)\n",
    "    precision = precision_score(y, preds, zero_division=1)\n",
    "    recall = recall_score(y, preds, zero_division=1)\n",
    "    return precision, recall, fbeta\n",
    "    "
   ]
  },
  {
   "cell_type": "code",
   "execution_count": 10,
   "id": "a6ab7f9e-66ae-4f09-b333-530226f373b8",
   "metadata": {},
   "outputs": [
    {
     "name": "stdout",
     "output_type": "stream",
     "text": [
      "Precision: 0.7164 | Recall: 0.6352 | F1: 0.6733\n"
     ]
    }
   ],
   "source": [
    "# Calculate and print the metrics\n",
    "\n",
    "p, r, fb = compute_model_metrics(y_test, preds)\n",
    "print(f\"Precision: {p:.4f} | Recall: {r:.4f} | F1: {fb:.4f}\")\n"
   ]
  },
  {
   "cell_type": "markdown",
   "id": "f8edfbfc-9f29-4c94-9065-7d1e687da44d",
   "metadata": {},
   "source": [
    "<<H3>6. Compute Performance on Model Slices</H3>"
   ]
  },
  {
   "cell_type": "code",
   "execution_count": 11,
   "id": "864dcba2-a1a5-4f0d-b2d7-e17199a681ff",
   "metadata": {},
   "outputs": [],
   "source": [
    "# Compute Model Metrics on Data Slice\n",
    "\n",
    "def performance_on_categorical_slice(\n",
    "    data, column_name, slice_value, categorical_features, label, encoder, lb, model\n",
    "):\n",
    "    data_slice = data[data[column_name] == slice_value]\n",
    "\n",
    "    X_slice, y_slice, _, _ = process_data(\n",
    "        X = data_slice,\n",
    "        categorical_features = categorical_features, \n",
    "        label = label, \n",
    "        training = False, \n",
    "        encoder = encoder, \n",
    "        lb = lb\n",
    "    )\n",
    "    \n",
    "    preds = inference(model, X_slice)\n",
    "    precision, recall, fbeta = compute_model_metrics(y_slice, preds)\n",
    "    return precision, recall, fbeta\n",
    "    "
   ]
  },
  {
   "cell_type": "code",
   "execution_count": 12,
   "id": "2a908986-c779-45b9-b097-2e1126417b2b",
   "metadata": {},
   "outputs": [
    {
     "name": "stdout",
     "output_type": "stream",
     "text": [
      "workclass: ?, Count: 385\n",
      "Precision: 0.6897 | Recall: 0.5128 | F1: 0.5882\n",
      "workclass: Federal-gov, Count: 197\n",
      "Precision: 0.6944 | Recall: 0.7246 | F1: 0.7092\n",
      "workclass: Local-gov, Count: 388\n",
      "Precision: 0.7379 | Recall: 0.6609 | F1: 0.6972\n",
      "workclass: Never-worked, Count: 1\n",
      "Precision: 1.0000 | Recall: 1.0000 | F1: 1.0000\n",
      "workclass: Private, Count: 4580\n",
      "Precision: 0.6945 | Recall: 0.6108 | F1: 0.6500\n",
      "workclass: Self-emp-inc, Count: 230\n",
      "Precision: 0.7630 | Recall: 0.8374 | F1: 0.7984\n",
      "workclass: Self-emp-not-inc, Count: 476\n",
      "Precision: 0.7684 | Recall: 0.5328 | F1: 0.6293\n",
      "workclass: State-gov, Count: 255\n",
      "Precision: 0.8333 | Recall: 0.7534 | F1: 0.7914\n",
      "workclass: Without-pay, Count: 1\n",
      "Precision: 1.0000 | Recall: 1.0000 | F1: 1.0000\n",
      "education: 10th, Count: 179\n",
      "Precision: 0.6667 | Recall: 0.2667 | F1: 0.3810\n",
      "education: 11th, Count: 224\n",
      "Precision: 0.8000 | Recall: 0.3636 | F1: 0.5000\n",
      "education: 12th, Count: 101\n",
      "Precision: 0.5000 | Recall: 0.1429 | F1: 0.2222\n",
      "education: 1st-4th, Count: 29\n",
      "Precision: 0.5000 | Recall: 1.0000 | F1: 0.6667\n",
      "education: 5th-6th, Count: 61\n",
      "Precision: 1.0000 | Recall: 0.5000 | F1: 0.6667\n",
      "education: 7th-8th, Count: 119\n",
      "Precision: 0.5000 | Recall: 0.1667 | F1: 0.2500\n",
      "education: 9th, Count: 101\n",
      "Precision: 0.0000 | Recall: 0.0000 | F1: 0.0000\n",
      "education: Assoc-acdm, Count: 221\n",
      "Precision: 0.6829 | Recall: 0.5600 | F1: 0.6154\n",
      "education: Assoc-voc, Count: 274\n",
      "Precision: 0.7551 | Recall: 0.4568 | F1: 0.5692\n",
      "education: Bachelors, Count: 1083\n",
      "Precision: 0.7517 | Recall: 0.7671 | F1: 0.7593\n",
      "education: Doctorate, Count: 84\n",
      "Precision: 0.8060 | Recall: 0.9000 | F1: 0.8504\n",
      "education: HS-grad, Count: 2138\n",
      "Precision: 0.6000 | Recall: 0.4035 | F1: 0.4825\n",
      "education: Masters, Count: 328\n",
      "Precision: 0.7989 | Recall: 0.8305 | F1: 0.8144\n",
      "education: Preschool, Count: 12\n",
      "Precision: 1.0000 | Recall: 1.0000 | F1: 1.0000\n",
      "education: Prof-school, Count: 117\n",
      "Precision: 0.8646 | Recall: 0.9651 | F1: 0.9121\n",
      "education: Some-college, Count: 1442\n",
      "Precision: 0.6123 | Recall: 0.5494 | F1: 0.5792\n",
      "marital-status: Divorced, Count: 899\n",
      "Precision: 0.8182 | Recall: 0.3830 | F1: 0.5217\n",
      "marital-status: Married-AF-spouse, Count: 4\n",
      "Precision: 1.0000 | Recall: 0.0000 | F1: 0.0000\n",
      "marital-status: Married-civ-spouse, Count: 2995\n",
      "Precision: 0.7077 | Recall: 0.6784 | F1: 0.6927\n",
      "marital-status: Married-spouse-absent, Count: 84\n",
      "Precision: 0.6667 | Recall: 0.2857 | F1: 0.4000\n",
      "marital-status: Never-married, Count: 2129\n",
      "Precision: 0.7925 | Recall: 0.4468 | F1: 0.5714\n",
      "marital-status: Separated, Count: 220\n",
      "Precision: 1.0000 | Recall: 0.3125 | F1: 0.4762\n",
      "marital-status: Widowed, Count: 182\n",
      "Precision: 1.0000 | Recall: 0.2500 | F1: 0.4000\n",
      "occupation: ?, Count: 386\n",
      "Precision: 0.6897 | Recall: 0.5128 | F1: 0.5882\n",
      "occupation: Adm-clerical, Count: 789\n",
      "Precision: 0.5895 | Recall: 0.4870 | F1: 0.5333\n",
      "occupation: Craft-repair, Count: 829\n",
      "Precision: 0.5600 | Recall: 0.4492 | F1: 0.4985\n",
      "occupation: Exec-managerial, Count: 813\n",
      "Precision: 0.7500 | Recall: 0.7459 | F1: 0.7480\n",
      "occupation: Farming-fishing, Count: 194\n",
      "Precision: 0.8333 | Recall: 0.4000 | F1: 0.5405\n",
      "occupation: Handlers-cleaners, Count: 277\n",
      "Precision: 1.0000 | Recall: 0.2500 | F1: 0.4000\n",
      "occupation: Machine-op-inspct, Count: 397\n",
      "Precision: 0.5862 | Recall: 0.3696 | F1: 0.4533\n",
      "occupation: Other-service, Count: 661\n",
      "Precision: 0.8571 | Recall: 0.3158 | F1: 0.4615\n",
      "occupation: Priv-house-serv, Count: 22\n",
      "Precision: 1.0000 | Recall: 1.0000 | F1: 1.0000\n",
      "occupation: Prof-specialty, Count: 808\n",
      "Precision: 0.8127 | Recall: 0.8016 | F1: 0.8071\n",
      "occupation: Protective-serv, Count: 103\n",
      "Precision: 0.7241 | Recall: 0.5676 | F1: 0.6364\n",
      "occupation: Sales, Count: 737\n",
      "Precision: 0.7095 | Recall: 0.6615 | F1: 0.6846\n",
      "occupation: Tech-support, Count: 186\n",
      "Precision: 0.6415 | Recall: 0.6296 | F1: 0.6355\n",
      "occupation: Transport-moving, Count: 311\n",
      "Precision: 0.5610 | Recall: 0.3710 | F1: 0.4466\n",
      "relationship: Husband, Count: 2648\n",
      "Precision: 0.7028 | Recall: 0.6893 | F1: 0.6960\n",
      "relationship: Not-in-family, Count: 1658\n",
      "Precision: 0.8000 | Recall: 0.4419 | F1: 0.5693\n",
      "relationship: Other-relative, Count: 216\n",
      "Precision: 1.0000 | Recall: 0.1667 | F1: 0.2857\n",
      "relationship: Own-child, Count: 1007\n",
      "Precision: 0.8333 | Recall: 0.3333 | F1: 0.4762\n",
      "relationship: Unmarried, Count: 681\n",
      "Precision: 1.0000 | Recall: 0.1860 | F1: 0.3137\n",
      "relationship: Wife, Count: 303\n",
      "Precision: 0.7480 | Recall: 0.6389 | F1: 0.6891\n",
      "race: Amer-Indian-Eskimo, Count: 72\n",
      "Precision: 0.7143 | Recall: 0.5556 | F1: 0.6250\n",
      "race: Asian-Pac-Islander, Count: 217\n",
      "Precision: 0.6852 | Recall: 0.6727 | F1: 0.6789\n",
      "race: Black, Count: 603\n",
      "Precision: 0.7551 | Recall: 0.4868 | F1: 0.5920\n",
      "race: Other, Count: 68\n",
      "Precision: 0.6667 | Recall: 0.6667 | F1: 0.6667\n",
      "race: White, Count: 5553\n",
      "Precision: 0.7166 | Recall: 0.6421 | F1: 0.6773\n",
      "sex: Female, Count: 2145\n",
      "Precision: 0.7763 | Recall: 0.5175 | F1: 0.6211\n",
      "sex: Male, Count: 4368\n",
      "Precision: 0.7089 | Recall: 0.6557 | F1: 0.6812\n",
      "native-country: ?, Count: 120\n",
      "Precision: 0.7419 | Recall: 0.6970 | F1: 0.7188\n",
      "native-country: Cambodia, Count: 1\n",
      "Precision: 1.0000 | Recall: 1.0000 | F1: 1.0000\n",
      "native-country: Canada, Count: 27\n",
      "Precision: 0.6667 | Recall: 0.5000 | F1: 0.5714\n",
      "native-country: China, Count: 18\n",
      "Precision: 0.0000 | Recall: 0.0000 | F1: 0.0000\n",
      "native-country: Columbia, Count: 11\n",
      "Precision: 1.0000 | Recall: 1.0000 | F1: 1.0000\n",
      "native-country: Cuba, Count: 19\n",
      "Precision: 1.0000 | Recall: 0.5000 | F1: 0.6667\n",
      "native-country: Dominican-Republic, Count: 13\n",
      "Precision: 1.0000 | Recall: 1.0000 | F1: 1.0000\n",
      "native-country: Ecuador, Count: 9\n",
      "Precision: 0.0000 | Recall: 1.0000 | F1: 0.0000\n",
      "native-country: El-Salvador, Count: 25\n",
      "Precision: 1.0000 | Recall: 0.8000 | F1: 0.8889\n",
      "native-country: England, Count: 23\n",
      "Precision: 0.8000 | Recall: 0.5714 | F1: 0.6667\n",
      "native-country: France, Count: 6\n",
      "Precision: 1.0000 | Recall: 0.0000 | F1: 0.0000\n",
      "native-country: Germany, Count: 24\n",
      "Precision: 0.5000 | Recall: 0.3333 | F1: 0.4000\n",
      "native-country: Greece, Count: 4\n",
      "Precision: 1.0000 | Recall: 1.0000 | F1: 1.0000\n",
      "native-country: Guatemala, Count: 16\n",
      "Precision: 1.0000 | Recall: 0.5000 | F1: 0.6667\n",
      "native-country: Haiti, Count: 13\n",
      "Precision: 1.0000 | Recall: 1.0000 | F1: 1.0000\n",
      "native-country: Holand-Netherlands, Count: 1\n",
      "Precision: 1.0000 | Recall: 1.0000 | F1: 1.0000\n",
      "native-country: Hong, Count: 3\n",
      "Precision: 1.0000 | Recall: 0.5000 | F1: 0.6667\n",
      "native-country: Hungary, Count: 2\n",
      "Precision: 1.0000 | Recall: 0.5000 | F1: 0.6667\n",
      "native-country: India, Count: 24\n",
      "Precision: 0.7000 | Recall: 0.7000 | F1: 0.7000\n",
      "native-country: Iran, Count: 10\n",
      "Precision: 0.6667 | Recall: 0.6667 | F1: 0.6667\n",
      "native-country: Ireland, Count: 5\n",
      "Precision: 1.0000 | Recall: 1.0000 | F1: 1.0000\n",
      "native-country: Italy, Count: 17\n",
      "Precision: 1.0000 | Recall: 0.6667 | F1: 0.8000\n",
      "native-country: Jamaica, Count: 17\n",
      "Precision: 1.0000 | Recall: 0.5000 | F1: 0.6667\n",
      "native-country: Japan, Count: 15\n",
      "Precision: 0.8571 | Recall: 0.8571 | F1: 0.8571\n",
      "native-country: Laos, Count: 6\n",
      "Precision: 1.0000 | Recall: 1.0000 | F1: 1.0000\n",
      "native-country: Mexico, Count: 123\n",
      "Precision: 0.5000 | Recall: 0.2857 | F1: 0.3636\n",
      "native-country: Nicaragua, Count: 9\n",
      "Precision: 0.0000 | Recall: 1.0000 | F1: 0.0000\n",
      "native-country: Outlying-US(Guam-USVI-etc), Count: 4\n",
      "Precision: 1.0000 | Recall: 1.0000 | F1: 1.0000\n",
      "native-country: Peru, Count: 11\n",
      "Precision: 1.0000 | Recall: 0.0000 | F1: 0.0000\n",
      "native-country: Philippines, Count: 34\n",
      "Precision: 0.7273 | Recall: 0.6154 | F1: 0.6667\n",
      "native-country: Poland, Count: 10\n",
      "Precision: 1.0000 | Recall: 0.5000 | F1: 0.6667\n",
      "native-country: Portugal, Count: 10\n",
      "Precision: 1.0000 | Recall: 1.0000 | F1: 1.0000\n",
      "native-country: Puerto-Rico, Count: 19\n",
      "Precision: 0.5000 | Recall: 1.0000 | F1: 0.6667\n",
      "native-country: Scotland, Count: 3\n",
      "Precision: 1.0000 | Recall: 1.0000 | F1: 1.0000\n",
      "native-country: South, Count: 18\n",
      "Precision: 0.4000 | Recall: 0.6667 | F1: 0.5000\n",
      "native-country: Taiwan, Count: 10\n",
      "Precision: 0.7500 | Recall: 1.0000 | F1: 0.8571\n",
      "native-country: Thailand, Count: 5\n",
      "Precision: 1.0000 | Recall: 1.0000 | F1: 1.0000\n",
      "native-country: Trinadad&Tobago, Count: 6\n",
      "Precision: 1.0000 | Recall: 1.0000 | F1: 1.0000\n",
      "native-country: United-States, Count: 5804\n",
      "Precision: 0.7157 | Recall: 0.6365 | F1: 0.6738\n",
      "native-country: Vietnam, Count: 18\n",
      "Precision: 0.5000 | Recall: 1.0000 | F1: 0.6667\n"
     ]
    }
   ],
   "source": [
    "# Iterate Through Categorical Features\n",
    "\n",
    "for col in cat_features:\n",
    "    # iterate through the unique values in one categorical feature\n",
    "    # use test, col and slicevalue as part of the input\n",
    "    for slicevalue in sorted(test[col].unique()):\n",
    "        count = test[test[col] == slicevalue].shape[0]\n",
    "                \n",
    "        p, r, fb = performance_on_categorical_slice(\n",
    "            data = test, \n",
    "            column_name = col, \n",
    "            slice_value = slicevalue,\n",
    "            categorical_features = cat_features, \n",
    "            label = \"salary\",\n",
    "            encoder = encoder, \n",
    "            lb = lb, \n",
    "            model = model\n",
    "        )\n",
    "        \n",
    "        print(f\"{col}: {slicevalue}, Count: {count}\")\n",
    "        print(f\"Precision: {p:.4f} | Recall: {r:.4f} | F1: {fb:.4f}\")\n",
    "        "
   ]
  },
  {
   "cell_type": "code",
   "execution_count": null,
   "id": "d6f123cb-5373-4afe-a15c-d605a2fbade0",
   "metadata": {},
   "outputs": [],
   "source": []
  }
 ],
 "metadata": {
  "kernelspec": {
   "display_name": "Python 3 (ipykernel)",
   "language": "python",
   "name": "python3"
  },
  "language_info": {
   "codemirror_mode": {
    "name": "ipython",
    "version": 3
   },
   "file_extension": ".py",
   "mimetype": "text/x-python",
   "name": "python",
   "nbconvert_exporter": "python",
   "pygments_lexer": "ipython3",
   "version": "3.10.18"
  }
 },
 "nbformat": 4,
 "nbformat_minor": 5
}

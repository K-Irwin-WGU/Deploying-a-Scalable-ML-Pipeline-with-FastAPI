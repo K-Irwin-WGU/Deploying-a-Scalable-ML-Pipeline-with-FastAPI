{
 "cells": [
  {
   "cell_type": "markdown",
   "id": "d2265bb9-857a-4e05-9a7f-0c04acd3fbdf",
   "metadata": {},
   "source": [
    "<H1>Deploying a Machine Learning Model Pipeline Test</H1>"
   ]
  },
  {
   "cell_type": "markdown",
   "id": "9b74e166-c01c-4abd-9848-b3c0684b04a4",
   "metadata": {},
   "source": [
    "<H3>1. Install Packages</H3>"
   ]
  },
  {
   "cell_type": "code",
   "execution_count": 1,
   "id": "0ca7b5e7-1a5e-4752-aed6-7f0bebbdb55d",
   "metadata": {},
   "outputs": [],
   "source": [
    "# Import Packages\n",
    "\n",
    "import os\n",
    "import pickle\n",
    "\n",
    "import pandas as pd\n",
    "import numpy as np\n",
    "\n",
    "from sklearn.preprocessing import LabelBinarizer, OneHotEncoder\n",
    "from sklearn.model_selection import train_test_split\n",
    "from sklearn.metrics import fbeta_score, precision_score, recall_score\n",
    "from sklearn.ensemble import RandomForestClassifier\n"
   ]
  },
  {
   "cell_type": "markdown",
   "id": "f67555a1-faba-46da-a1de-085ba16b1639",
   "metadata": {},
   "source": [
    "<<H3>2. Get Census Data and Read it with Pandas</H3>"
   ]
  },
  {
   "cell_type": "code",
   "execution_count": 2,
   "id": "4bf97eee-ca10-4c9c-98ba-19cfe6e566a6",
   "metadata": {},
   "outputs": [
    {
     "name": "stdout",
     "output_type": "stream",
     "text": [
      "/home/k-irw/Udacity/DevOps/Project_2/Deploying-a-Scalable-ML-Pipeline-with-FastAPI/data/census.csv\n"
     ]
    }
   ],
   "source": [
    "# Get Path Census Data\n",
    "\n",
    "project_path = os.getcwd()[:-9]\n",
    "data_path = os.path.join(project_path, \"data\", \"census.csv\")\n",
    "\n",
    "print(data_path)\n"
   ]
  },
  {
   "cell_type": "code",
   "execution_count": 3,
   "id": "75b27c04-8c7e-433f-9fd2-5b2fe0462b11",
   "metadata": {},
   "outputs": [
    {
     "data": {
      "text/plain": [
       "(32561, 15)"
      ]
     },
     "execution_count": 3,
     "metadata": {},
     "output_type": "execute_result"
    }
   ],
   "source": [
    "# Laod Census Data\n",
    "\n",
    "data = pd.read_csv(data_path)\n",
    "data.shape"
   ]
  },
  {
   "cell_type": "markdown",
   "id": "9327a77f-d16a-410d-a47c-beb974b5aabf",
   "metadata": {},
   "source": [
    "<<H3>3. Process Data</H3>"
   ]
  },
  {
   "cell_type": "code",
   "execution_count": 4,
   "id": "9806face-63df-42c2-9360-bef571ee007c",
   "metadata": {},
   "outputs": [],
   "source": [
    "\n",
    "def process_data(\n",
    "    X, categorical_features=[], label=None, training=True, encoder=None, lb=None\n",
    "):\n",
    "\n",
    "    if label is not None:\n",
    "        y = X[label]\n",
    "        X = X.drop([label], axis=1)\n",
    "    else:\n",
    "        y = np.array([])\n",
    "\n",
    "    X_categorical = X[categorical_features].values\n",
    "    X_continuous = X.drop(*[categorical_features], axis=1)\n",
    "\n",
    "    if training is True:\n",
    "        encoder = OneHotEncoder(sparse_output=False, handle_unknown=\"ignore\")\n",
    "        lb = LabelBinarizer()\n",
    "        X_categorical = encoder.fit_transform(X_categorical)\n",
    "        y = lb.fit_transform(y.values).ravel()\n",
    "    else:\n",
    "        X_categorical = encoder.transform(X_categorical)\n",
    "        try:\n",
    "            y = lb.transform(y.values).ravel()\n",
    "        # Catch the case where y is None because we're doing inference.\n",
    "        except AttributeError:\n",
    "            pass\n",
    "\n",
    "    X = np.concatenate([X_continuous, X_categorical], axis=1)\n",
    "    return X, y, encoder, lb\n",
    "    "
   ]
  },
  {
   "cell_type": "markdown",
   "id": "83b20f12-39ef-4c5a-8628-54b06bf741a7",
   "metadata": {},
   "source": [
    "<<H3>4. Build and Train ML Model</H3>"
   ]
  },
  {
   "cell_type": "code",
   "execution_count": 5,
   "id": "452e9bd8-c0dd-4a42-b52b-18db83d15e0b",
   "metadata": {},
   "outputs": [],
   "source": [
    "#  Train Machine learning Model\n",
    "\n",
    "def train_model(X_train, y_train):\n",
    "    model = RandomForestClassifier()\n",
    "    model.fit(X_train, y_train)\n",
    "    return model\n"
   ]
  },
  {
   "cell_type": "code",
   "execution_count": 6,
   "id": "2ad15a75-8e7d-4550-bf4f-c99654b31dca",
   "metadata": {},
   "outputs": [],
   "source": [
    "\n",
    "# Split Data\n",
    "train, test = train_test_split(data, test_size=0.20)\n",
    "\n",
    "cat_features = [\n",
    "    \"workclass\",\n",
    "    \"education\",\n",
    "    \"marital-status\",\n",
    "    \"occupation\",\n",
    "    \"relationship\",\n",
    "    \"race\",\n",
    "    \"sex\",\n",
    "    \"native-country\",\n",
    "]\n",
    "\n",
    "# Use the process_data function provided to process the data.\n",
    "X_train, y_train, encoder, lb = process_data(\n",
    "    train, categorical_features=cat_features, label=\"salary\", training=True\n",
    "    )\n",
    "\n",
    "X_test, y_test, _, _ = process_data(\n",
    "    test,\n",
    "    categorical_features=cat_features,\n",
    "    label=\"salary\",\n",
    "    training=False,\n",
    "    encoder=encoder,\n",
    "    lb=lb,\n",
    ")\n",
    "\n",
    "# Use the train_model function to train the model on the training dataset\n",
    "model = train_model(X_train, y_train)\n"
   ]
  },
  {
   "cell_type": "markdown",
   "id": "7b2ca430-760b-4ff0-b028-0afdda5722f1",
   "metadata": {},
   "source": [
    "<<H3>5. Calculate ML Model Metrics</H3>"
   ]
  },
  {
   "cell_type": "code",
   "execution_count": 7,
   "id": "3c1d1b53-c880-42ca-9fe8-b1244ea85357",
   "metadata": {},
   "outputs": [],
   "source": [
    "# Run model inferences and return the predictions\n",
    "\n",
    "def inference(model, X):\n",
    "    preds = model.predict(X)\n",
    "    return preds\n"
   ]
  },
  {
   "cell_type": "code",
   "execution_count": 8,
   "id": "86f739cd-1482-4a31-9248-d104a4e37adf",
   "metadata": {},
   "outputs": [],
   "source": [
    "# Use the inference function to run the model inferences on the test dataset.\n",
    "\n",
    "preds = inference(model, X_test)\n"
   ]
  },
  {
   "cell_type": "code",
   "execution_count": 9,
   "id": "4c700316-2858-4440-9002-6147c9da67a2",
   "metadata": {},
   "outputs": [],
   "source": [
    "# Validates the trained machine learning model using precision, recall, and F1.\n",
    "\n",
    "def compute_model_metrics(y, preds):\n",
    "    fbeta = fbeta_score(y, preds, beta=1, zero_division=1)\n",
    "    precision = precision_score(y, preds, zero_division=1)\n",
    "    recall = recall_score(y, preds, zero_division=1)\n",
    "    return precision, recall, fbeta\n",
    "    "
   ]
  },
  {
   "cell_type": "code",
   "execution_count": 10,
   "id": "a6ab7f9e-66ae-4f09-b333-530226f373b8",
   "metadata": {},
   "outputs": [
    {
     "name": "stdout",
     "output_type": "stream",
     "text": [
      "Precision: 0.7237 | Recall: 0.6312 | F1: 0.6743\n"
     ]
    }
   ],
   "source": [
    "# Calculate and print the metrics\n",
    "\n",
    "p, r, fb = compute_model_metrics(y_test, preds)\n",
    "print(f\"Precision: {p:.4f} | Recall: {r:.4f} | F1: {fb:.4f}\")\n"
   ]
  },
  {
   "cell_type": "markdown",
   "id": "f8edfbfc-9f29-4c94-9065-7d1e687da44d",
   "metadata": {},
   "source": [
    "<<H3>6. Compute Performance on Model Slices</H3>"
   ]
  },
  {
   "cell_type": "code",
   "execution_count": 11,
   "id": "864dcba2-a1a5-4f0d-b2d7-e17199a681ff",
   "metadata": {},
   "outputs": [],
   "source": [
    "# Compute Model Metrics on Data Slice\n",
    "\n",
    "def performance_on_categorical_slice(\n",
    "    data, column_name, slice_value, categorical_features, label, encoder, lb, model\n",
    "):\n",
    "    data_slice = data[data[column_name] == slice_value]\n",
    "\n",
    "    X_slice, y_slice, _, _ = process_data(\n",
    "        X = data_slice,\n",
    "        categorical_features = categorical_features, \n",
    "        label = label, \n",
    "        training = False, \n",
    "        encoder = encoder, \n",
    "        lb = lb\n",
    "    )\n",
    "    \n",
    "    preds = inference(model, X_slice)\n",
    "    precision, recall, fbeta = compute_model_metrics(y_slice, preds)\n",
    "    return precision, recall, fbeta\n",
    "    "
   ]
  },
  {
   "cell_type": "code",
   "execution_count": 12,
   "id": "2a908986-c779-45b9-b097-2e1126417b2b",
   "metadata": {},
   "outputs": [
    {
     "name": "stdout",
     "output_type": "stream",
     "text": [
      "workclass: ?, Count: 360\n",
      "Precision: 0.7083 | Recall: 0.4595 | F1: 0.5574\n",
      "workclass: Federal-gov, Count: 195\n",
      "Precision: 0.7284 | Recall: 0.6941 | F1: 0.7108\n",
      "workclass: Local-gov, Count: 405\n",
      "Precision: 0.7196 | Recall: 0.6937 | F1: 0.7064\n",
      "workclass: Never-worked, Count: 2\n",
      "Precision: 1.0000 | Recall: 1.0000 | F1: 1.0000\n",
      "workclass: Private, Count: 4538\n",
      "Precision: 0.7177 | Recall: 0.6141 | F1: 0.6619\n",
      "workclass: Self-emp-inc, Count: 239\n",
      "Precision: 0.7554 | Recall: 0.7664 | F1: 0.7609\n",
      "workclass: Self-emp-not-inc, Count: 482\n",
      "Precision: 0.7429 | Recall: 0.5417 | F1: 0.6265\n",
      "workclass: State-gov, Count: 291\n",
      "Precision: 0.7126 | Recall: 0.6889 | F1: 0.7006\n",
      "workclass: Without-pay, Count: 1\n",
      "Precision: 1.0000 | Recall: 1.0000 | F1: 1.0000\n",
      "education: 10th, Count: 189\n",
      "Precision: 0.5714 | Recall: 0.3636 | F1: 0.4444\n",
      "education: 11th, Count: 230\n",
      "Precision: 0.8000 | Recall: 0.3333 | F1: 0.4706\n",
      "education: 12th, Count: 98\n",
      "Precision: 0.0000 | Recall: 0.0000 | F1: 0.0000\n",
      "education: 1st-4th, Count: 35\n",
      "Precision: 1.0000 | Recall: 1.0000 | F1: 1.0000\n",
      "education: 5th-6th, Count: 60\n",
      "Precision: 1.0000 | Recall: 0.0000 | F1: 0.0000\n",
      "education: 7th-8th, Count: 117\n",
      "Precision: 1.0000 | Recall: 0.6000 | F1: 0.7500\n",
      "education: 9th, Count: 99\n",
      "Precision: 1.0000 | Recall: 0.0000 | F1: 0.0000\n",
      "education: Assoc-acdm, Count: 222\n",
      "Precision: 0.6977 | Recall: 0.5455 | F1: 0.6122\n",
      "education: Assoc-voc, Count: 294\n",
      "Precision: 0.6308 | Recall: 0.5256 | F1: 0.5734\n",
      "education: Bachelors, Count: 1070\n",
      "Precision: 0.7466 | Recall: 0.7552 | F1: 0.7509\n",
      "education: Doctorate, Count: 99\n",
      "Precision: 0.7949 | Recall: 0.8857 | F1: 0.8378\n",
      "education: HS-grad, Count: 2116\n",
      "Precision: 0.5592 | Recall: 0.4114 | F1: 0.4740\n",
      "education: Masters, Count: 355\n",
      "Precision: 0.8246 | Recall: 0.8406 | F1: 0.8325\n",
      "education: Preschool, Count: 12\n",
      "Precision: 1.0000 | Recall: 1.0000 | F1: 1.0000\n",
      "education: Prof-school, Count: 126\n",
      "Precision: 0.8495 | Recall: 0.9186 | F1: 0.8827\n",
      "education: Some-college, Count: 1391\n",
      "Precision: 0.7211 | Recall: 0.4946 | F1: 0.5867\n",
      "marital-status: Divorced, Count: 894\n",
      "Precision: 0.7381 | Recall: 0.3010 | F1: 0.4276\n",
      "marital-status: Married-AF-spouse, Count: 3\n",
      "Precision: 1.0000 | Recall: 0.0000 | F1: 0.0000\n",
      "marital-status: Married-civ-spouse, Count: 2994\n",
      "Precision: 0.7215 | Recall: 0.6786 | F1: 0.6994\n",
      "marital-status: Married-spouse-absent, Count: 87\n",
      "Precision: 1.0000 | Recall: 0.5455 | F1: 0.7059\n",
      "marital-status: Never-married, Count: 2119\n",
      "Precision: 0.6786 | Recall: 0.4086 | F1: 0.5101\n",
      "marital-status: Separated, Count: 208\n",
      "Precision: 1.0000 | Recall: 0.4000 | F1: 0.5714\n",
      "marital-status: Widowed, Count: 208\n",
      "Precision: 1.0000 | Recall: 0.3684 | F1: 0.5385\n",
      "occupation: ?, Count: 362\n",
      "Precision: 0.7083 | Recall: 0.4595 | F1: 0.5574\n",
      "occupation: Adm-clerical, Count: 748\n",
      "Precision: 0.6774 | Recall: 0.5676 | F1: 0.6176\n",
      "occupation: Armed-Forces, Count: 3\n",
      "Precision: 1.0000 | Recall: 1.0000 | F1: 1.0000\n",
      "occupation: Craft-repair, Count: 807\n",
      "Precision: 0.5462 | Recall: 0.4062 | F1: 0.4659\n",
      "occupation: Exec-managerial, Count: 807\n",
      "Precision: 0.7736 | Recall: 0.7814 | F1: 0.7775\n",
      "occupation: Farming-fishing, Count: 178\n",
      "Precision: 0.6667 | Recall: 0.2609 | F1: 0.3750\n",
      "occupation: Handlers-cleaners, Count: 263\n",
      "Precision: 0.8571 | Recall: 0.2727 | F1: 0.4138\n",
      "occupation: Machine-op-inspct, Count: 395\n",
      "Precision: 0.4138 | Recall: 0.2727 | F1: 0.3288\n",
      "occupation: Other-service, Count: 661\n",
      "Precision: 0.7500 | Recall: 0.1111 | F1: 0.1935\n",
      "occupation: Priv-house-serv, Count: 27\n",
      "Precision: 1.0000 | Recall: 1.0000 | F1: 1.0000\n",
      "occupation: Prof-specialty, Count: 833\n",
      "Precision: 0.7749 | Recall: 0.7914 | F1: 0.7831\n",
      "occupation: Protective-serv, Count: 139\n",
      "Precision: 0.5714 | Recall: 0.5333 | F1: 0.5517\n",
      "occupation: Sales, Count: 747\n",
      "Precision: 0.7688 | Recall: 0.6101 | F1: 0.6803\n",
      "occupation: Tech-support, Count: 206\n",
      "Precision: 0.7119 | Recall: 0.6667 | F1: 0.6885\n",
      "occupation: Transport-moving, Count: 337\n",
      "Precision: 0.5556 | Recall: 0.3390 | F1: 0.4211\n",
      "relationship: Husband, Count: 2584\n",
      "Precision: 0.7171 | Recall: 0.6833 | F1: 0.6998\n",
      "relationship: Not-in-family, Count: 1664\n",
      "Precision: 0.7263 | Recall: 0.4132 | F1: 0.5267\n",
      "relationship: Other-relative, Count: 195\n",
      "Precision: 0.0000 | Recall: 0.0000 | F1: 0.0000\n",
      "relationship: Own-child, Count: 1011\n",
      "Precision: 1.0000 | Recall: 0.1429 | F1: 0.2500\n",
      "relationship: Unmarried, Count: 698\n",
      "Precision: 0.8889 | Recall: 0.3265 | F1: 0.4776\n",
      "relationship: Wife, Count: 361\n",
      "Precision: 0.7500 | Recall: 0.6628 | F1: 0.7037\n",
      "race: Amer-Indian-Eskimo, Count: 59\n",
      "Precision: 0.3333 | Recall: 0.2222 | F1: 0.2667\n",
      "race: Asian-Pac-Islander, Count: 228\n",
      "Precision: 0.6842 | Recall: 0.6000 | F1: 0.6393\n",
      "race: Black, Count: 603\n",
      "Precision: 0.7593 | Recall: 0.5325 | F1: 0.6260\n",
      "race: Other, Count: 46\n",
      "Precision: 1.0000 | Recall: 0.3333 | F1: 0.5000\n",
      "race: White, Count: 5577\n",
      "Precision: 0.7256 | Recall: 0.6412 | F1: 0.6808\n",
      "sex: Female, Count: 2211\n",
      "Precision: 0.7744 | Recall: 0.5511 | F1: 0.6439\n",
      "sex: Male, Count: 4302\n",
      "Precision: 0.7154 | Recall: 0.6480 | F1: 0.6800\n",
      "native-country: ?, Count: 125\n",
      "Precision: 0.6875 | Recall: 0.6667 | F1: 0.6769\n",
      "native-country: Cambodia, Count: 2\n",
      "Precision: 0.0000 | Recall: 1.0000 | F1: 0.0000\n",
      "native-country: Canada, Count: 20\n",
      "Precision: 0.4000 | Recall: 0.5000 | F1: 0.4444\n",
      "native-country: China, Count: 21\n",
      "Precision: 0.5714 | Recall: 1.0000 | F1: 0.7273\n",
      "native-country: Columbia, Count: 11\n",
      "Precision: 1.0000 | Recall: 1.0000 | F1: 1.0000\n",
      "native-country: Cuba, Count: 13\n",
      "Precision: 1.0000 | Recall: 0.5000 | F1: 0.6667\n",
      "native-country: Dominican-Republic, Count: 14\n",
      "Precision: 1.0000 | Recall: 1.0000 | F1: 1.0000\n",
      "native-country: Ecuador, Count: 4\n",
      "Precision: 1.0000 | Recall: 1.0000 | F1: 1.0000\n",
      "native-country: El-Salvador, Count: 21\n",
      "Precision: 1.0000 | Recall: 1.0000 | F1: 1.0000\n",
      "native-country: England, Count: 27\n",
      "Precision: 0.7500 | Recall: 0.7500 | F1: 0.7500\n",
      "native-country: France, Count: 5\n",
      "Precision: 1.0000 | Recall: 0.0000 | F1: 0.0000\n",
      "native-country: Germany, Count: 30\n",
      "Precision: 0.7143 | Recall: 0.5556 | F1: 0.6250\n",
      "native-country: Greece, Count: 3\n",
      "Precision: 0.0000 | Recall: 1.0000 | F1: 0.0000\n",
      "native-country: Guatemala, Count: 13\n",
      "Precision: 1.0000 | Recall: 1.0000 | F1: 1.0000\n",
      "native-country: Haiti, Count: 6\n",
      "Precision: 1.0000 | Recall: 1.0000 | F1: 1.0000\n",
      "native-country: Holand-Netherlands, Count: 1\n",
      "Precision: 1.0000 | Recall: 1.0000 | F1: 1.0000\n",
      "native-country: Honduras, Count: 3\n",
      "Precision: 1.0000 | Recall: 1.0000 | F1: 1.0000\n",
      "native-country: Hong, Count: 3\n",
      "Precision: 1.0000 | Recall: 1.0000 | F1: 1.0000\n",
      "native-country: Hungary, Count: 1\n",
      "Precision: 1.0000 | Recall: 1.0000 | F1: 1.0000\n",
      "native-country: India, Count: 22\n",
      "Precision: 0.4000 | Recall: 0.5714 | F1: 0.4706\n",
      "native-country: Iran, Count: 14\n",
      "Precision: 0.3750 | Recall: 0.5000 | F1: 0.4286\n",
      "native-country: Ireland, Count: 6\n",
      "Precision: 1.0000 | Recall: 0.0000 | F1: 0.0000\n",
      "native-country: Italy, Count: 16\n",
      "Precision: 0.5000 | Recall: 0.2500 | F1: 0.3333\n",
      "native-country: Jamaica, Count: 21\n",
      "Precision: 0.5000 | Recall: 0.2500 | F1: 0.3333\n",
      "native-country: Japan, Count: 15\n",
      "Precision: 1.0000 | Recall: 0.6667 | F1: 0.8000\n",
      "native-country: Laos, Count: 6\n",
      "Precision: 1.0000 | Recall: 1.0000 | F1: 1.0000\n",
      "native-country: Mexico, Count: 110\n",
      "Precision: 1.0000 | Recall: 0.0000 | F1: 0.0000\n",
      "native-country: Nicaragua, Count: 3\n",
      "Precision: 1.0000 | Recall: 1.0000 | F1: 1.0000\n",
      "native-country: Outlying-US(Guam-USVI-etc), Count: 4\n",
      "Precision: 1.0000 | Recall: 1.0000 | F1: 1.0000\n",
      "native-country: Peru, Count: 6\n",
      "Precision: 1.0000 | Recall: 1.0000 | F1: 1.0000\n",
      "native-country: Philippines, Count: 32\n",
      "Precision: 0.8750 | Recall: 0.5000 | F1: 0.6364\n",
      "native-country: Poland, Count: 14\n",
      "Precision: 1.0000 | Recall: 0.8000 | F1: 0.8889\n",
      "native-country: Portugal, Count: 8\n",
      "Precision: 1.0000 | Recall: 1.0000 | F1: 1.0000\n",
      "native-country: Puerto-Rico, Count: 16\n",
      "Precision: 0.5000 | Recall: 0.5000 | F1: 0.5000\n",
      "native-country: Scotland, Count: 2\n",
      "Precision: 1.0000 | Recall: 0.0000 | F1: 0.0000\n",
      "native-country: South, Count: 19\n",
      "Precision: 0.6667 | Recall: 0.5000 | F1: 0.5714\n",
      "native-country: Taiwan, Count: 9\n",
      "Precision: 0.6667 | Recall: 0.6667 | F1: 0.6667\n",
      "native-country: Thailand, Count: 4\n",
      "Precision: 1.0000 | Recall: 1.0000 | F1: 1.0000\n",
      "native-country: Trinadad&Tobago, Count: 4\n",
      "Precision: 1.0000 | Recall: 0.0000 | F1: 0.0000\n",
      "native-country: United-States, Count: 5843\n",
      "Precision: 0.7301 | Recall: 0.6362 | F1: 0.6799\n",
      "native-country: Vietnam, Count: 12\n",
      "Precision: 1.0000 | Recall: 0.0000 | F1: 0.0000\n",
      "native-country: Yugoslavia, Count: 4\n",
      "Precision: 1.0000 | Recall: 0.0000 | F1: 0.0000\n"
     ]
    }
   ],
   "source": [
    "# Iterate Through Categorical Features\n",
    "\n",
    "for col in cat_features:\n",
    "    # iterate through the unique values in one categorical feature\n",
    "    # use test, col and slicevalue as part of the input\n",
    "    for slicevalue in sorted(test[col].unique()):\n",
    "        count = test[test[col] == slicevalue].shape[0]\n",
    "                \n",
    "        p, r, fb = performance_on_categorical_slice(\n",
    "            data = test, \n",
    "            column_name = col, \n",
    "            slice_value = slicevalue,\n",
    "            categorical_features = cat_features, \n",
    "            label = \"salary\",\n",
    "            encoder = encoder, \n",
    "            lb = lb, \n",
    "            model = model\n",
    "        )\n",
    "        \n",
    "        print(f\"{col}: {slicevalue}, Count: {count}\")\n",
    "        print(f\"Precision: {p:.4f} | Recall: {r:.4f} | F1: {fb:.4f}\")\n",
    "        "
   ]
  },
  {
   "cell_type": "code",
   "execution_count": null,
   "id": "d6f123cb-5373-4afe-a15c-d605a2fbade0",
   "metadata": {},
   "outputs": [],
   "source": []
  }
 ],
 "metadata": {
  "kernelspec": {
   "display_name": "Python 3 (ipykernel)",
   "language": "python",
   "name": "python3"
  },
  "language_info": {
   "codemirror_mode": {
    "name": "ipython",
    "version": 3
   },
   "file_extension": ".py",
   "mimetype": "text/x-python",
   "name": "python",
   "nbconvert_exporter": "python",
   "pygments_lexer": "ipython3",
   "version": "3.10.18"
  }
 },
 "nbformat": 4,
 "nbformat_minor": 5
}
